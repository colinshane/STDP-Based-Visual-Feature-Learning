{
 "cells": [
  {
   "cell_type": "markdown",
   "metadata": {},
   "source": [
    "# 035\n",
    "\n",
    "Named after this: https://www.youtube.com/watch?v=hgZFuq2S15A\n",
    "        \n",
    "This code is designed to mimic the way the retina works in identifying parts of images, etc. \n",
    "\n",
    "The code is designed entirely to respond to MNIST sized data in order to get the respective neurons working,\n",
    "it is not designed to learn from this data (at least at this point). MNIST data seemed an appropriate level\n",
    "of complexity and size to get a small number of neurons working together."
   ]
  },
  {
   "cell_type": "markdown",
   "metadata": {},
   "source": [
    "### Setup the environment"
   ]
  },
  {
   "cell_type": "code",
   "execution_count": 1,
   "metadata": {
    "collapsed": true
   },
   "outputs": [],
   "source": [
    "import numpy as np\n",
    "from mnist import MNIST   \n",
    "import cv2\n",
    "import matplotlib.pyplot as plt\n",
    "%matplotlib inline"
   ]
  },
  {
   "cell_type": "markdown",
   "metadata": {},
   "source": [
    "### Create a sample image to work with\n",
    "\n",
    "TODO: Flesh this out into a data pipeline later"
   ]
  },
  {
   "cell_type": "code",
   "execution_count": 15,
   "metadata": {},
   "outputs": [],
   "source": [
    "mndata = MNIST('./mnist')\n",
    "images, labels = mndata.load_training()\n",
    "\n",
    "def get_next_image(index=0):\n",
    "    return images[index]\n",
    "    "
   ]
  },
  {
   "cell_type": "markdown",
   "metadata": {},
   "source": [
    "* Get an image from the training set"
   ]
  },
  {
   "cell_type": "code",
   "execution_count": 17,
   "metadata": {},
   "outputs": [
    {
     "name": "stdout",
     "output_type": "stream",
     "text": [
      "\n",
      "............................\n",
      "............................\n",
      "............................\n",
      "............................\n",
      "............................\n",
      ".....................@@.....\n",
      ".............@@@@@@.@@......\n",
      "........@@@@@@@@@@..........\n",
      "........@@@@@@..@@..........\n",
      "...........@@@..............\n",
      "............@...............\n",
      "............@...............\n",
      ".............@..............\n",
      ".............@@.............\n",
      "..............@@@...........\n",
      "................@@..........\n",
      ".................@@.........\n",
      ".................@@@........\n",
      ".................@@@........\n",
      "..............@@@@@.........\n",
      "............@@@@@@..........\n",
      "..........@@@@@.............\n",
      "........@@@@@...............\n",
      "......@@@@@@................\n",
      ".....@@@@...................\n",
      "............................\n",
      "............................\n",
      "............................\n"
     ]
    }
   ],
   "source": [
    "image = get_next_image(index=0)\n",
    "print(mndata.display(image))"
   ]
  },
  {
   "cell_type": "markdown",
   "metadata": {},
   "source": [
    "* Convert to a numpy array so we can process it easier / better"
   ]
  },
  {
   "cell_type": "code",
   "execution_count": 33,
   "metadata": {},
   "outputs": [
    {
     "name": "stdout",
     "output_type": "stream",
     "text": [
      "[[  0   0   0   0   0   0   0   0   0   0   0   0   0   0   0   0   0   0\n",
      "    0   0   0   0   0   0   0   0   0   0]\n",
      " [  0   0   0   0   0   0   0   0   0   0   0   0   0   0   0   0   0   0\n",
      "    0   0   0   0   0   0   0   0   0   0]\n",
      " [  0   0   0   0   0   0   0   0   0   0   0   0   0   0   0   0   0   0\n",
      "    0   0   0   0   0   0   0   0   0   0]\n",
      " [  0   0   0   0   0   0   0   0   0   0   0   0   0   0   0   0   0   0\n",
      "    0   0   0   0   0   0   0   0   0   0]\n",
      " [  0   0   0   0   0   0   0   0   0   0   0   0   0   0   0   0   0   0\n",
      "    0   0   0   0   0   0   0   0   0   0]\n",
      " [  0   0   0   0   0   0   0   0   0   0   0   0   3  18  18  18 126 136\n",
      "  175  26 166 255 247 127   0   0   0   0]\n",
      " [  0   0   0   0   0   0   0   0  30  36  94 154 170 253 253 253 253 253\n",
      "  225 172 253 242 195  64   0   0   0   0]\n",
      " [  0   0   0   0   0   0   0  49 238 253 253 253 253 253 253 253 253 251\n",
      "   93  82  82  56  39   0   0   0   0   0]\n",
      " [  0   0   0   0   0   0   0  18 219 253 253 253 253 253 198 182 247 241\n",
      "    0   0   0   0   0   0   0   0   0   0]\n",
      " [  0   0   0   0   0   0   0   0  80 156 107 253 253 205  11   0  43 154\n",
      "    0   0   0   0   0   0   0   0   0   0]\n",
      " [  0   0   0   0   0   0   0   0   0  14   1 154 253  90   0   0   0   0\n",
      "    0   0   0   0   0   0   0   0   0   0]\n",
      " [  0   0   0   0   0   0   0   0   0   0   0 139 253 190   2   0   0   0\n",
      "    0   0   0   0   0   0   0   0   0   0]\n",
      " [  0   0   0   0   0   0   0   0   0   0   0  11 190 253  70   0   0   0\n",
      "    0   0   0   0   0   0   0   0   0   0]\n",
      " [  0   0   0   0   0   0   0   0   0   0   0   0  35 241 225 160 108   1\n",
      "    0   0   0   0   0   0   0   0   0   0]\n",
      " [  0   0   0   0   0   0   0   0   0   0   0   0   0  81 240 253 253 119\n",
      "   25   0   0   0   0   0   0   0   0   0]\n",
      " [  0   0   0   0   0   0   0   0   0   0   0   0   0   0  45 186 253 253\n",
      "  150  27   0   0   0   0   0   0   0   0]\n",
      " [  0   0   0   0   0   0   0   0   0   0   0   0   0   0   0  16  93 252\n",
      "  253 187   0   0   0   0   0   0   0   0]\n",
      " [  0   0   0   0   0   0   0   0   0   0   0   0   0   0   0   0   0 249\n",
      "  253 249  64   0   0   0   0   0   0   0]\n",
      " [  0   0   0   0   0   0   0   0   0   0   0   0   0   0  46 130 183 253\n",
      "  253 207   2   0   0   0   0   0   0   0]\n",
      " [  0   0   0   0   0   0   0   0   0   0   0   0  39 148 229 253 253 253\n",
      "  250 182   0   0   0   0   0   0   0   0]\n",
      " [  0   0   0   0   0   0   0   0   0   0  24 114 221 253 253 253 253 201\n",
      "   78   0   0   0   0   0   0   0   0   0]\n",
      " [  0   0   0   0   0   0   0   0  23  66 213 253 253 253 253 198  81   2\n",
      "    0   0   0   0   0   0   0   0   0   0]\n",
      " [  0   0   0   0   0   0  18 171 219 253 253 253 253 195  80   9   0   0\n",
      "    0   0   0   0   0   0   0   0   0   0]\n",
      " [  0   0   0   0  55 172 226 253 253 253 253 244 133  11   0   0   0   0\n",
      "    0   0   0   0   0   0   0   0   0   0]\n",
      " [  0   0   0   0 136 253 253 253 212 135 132  16   0   0   0   0   0   0\n",
      "    0   0   0   0   0   0   0   0   0   0]\n",
      " [  0   0   0   0   0   0   0   0   0   0   0   0   0   0   0   0   0   0\n",
      "    0   0   0   0   0   0   0   0   0   0]\n",
      " [  0   0   0   0   0   0   0   0   0   0   0   0   0   0   0   0   0   0\n",
      "    0   0   0   0   0   0   0   0   0   0]\n",
      " [  0   0   0   0   0   0   0   0   0   0   0   0   0   0   0   0   0   0\n",
      "    0   0   0   0   0   0   0   0   0   0]]\n"
     ]
    }
   ],
   "source": [
    "image=np.asarray(image).reshape((28,28))\n",
    "print(image)"
   ]
  },
  {
   "cell_type": "markdown",
   "metadata": {},
   "source": [
    "### Convolve the image..."
   ]
  },
  {
   "cell_type": "markdown",
   "metadata": {},
   "source": [
    "* Step across the image, creating a series of mini-matrices that can be used to feed into the retinal neurons"
   ]
  },
  {
   "cell_type": "code",
   "execution_count": 75,
   "metadata": {},
   "outputs": [
    {
     "name": "stdout",
     "output_type": "stream",
     "text": [
      "Convolution Dimensions: x=6 / y=6, starting at x=1, y=6\n"
     ]
    }
   ],
   "source": [
    "stride = (4,2)   # This will be 5 on-centre neurons, 2 surround (off-centre) neurons\n",
    "stride_size = stride[0] + stride[1]\n",
    "len_x, len_y = image.shape\n",
    "x_max = int((len_x - stride_size)/stride[0])+1\n",
    "y_max = int((len_y - stride_size)/stride[0])+1\n",
    "print ('Convolution Dimensions: x={} / y={}, starting at x={}, y={}'.format(x_max, y_max, x_count, y_count))"
   ]
  },
  {
   "cell_type": "code",
   "execution_count": 79,
   "metadata": {
    "scrolled": false
   },
   "outputs": [
    {
     "name": "stdout",
     "output_type": "stream",
     "text": [
      "Rendering kernel 0/0 at plot 1/1/1\n",
      "Rendering kernel 4/0 at plot 2/1/2\n",
      "Rendering kernel 8/0 at plot 3/1/3\n",
      "Rendering kernel 12/0 at plot 4/1/4\n",
      "Rendering kernel 16/0 at plot 5/1/5\n",
      "Rendering kernel 20/0 at plot 6/1/6\n",
      "Rendering kernel 0/4 at plot 1/2/7\n",
      "Rendering kernel 4/4 at plot 2/2/8\n",
      "Rendering kernel 8/4 at plot 3/2/9\n",
      "Rendering kernel 12/4 at plot 4/2/10\n",
      "Rendering kernel 16/4 at plot 5/2/11\n",
      "Rendering kernel 20/4 at plot 6/2/12\n",
      "Rendering kernel 0/8 at plot 1/3/13\n",
      "Rendering kernel 4/8 at plot 2/3/14\n",
      "Rendering kernel 8/8 at plot 3/3/15\n",
      "Rendering kernel 12/8 at plot 4/3/16\n",
      "Rendering kernel 16/8 at plot 5/3/17\n",
      "Rendering kernel 20/8 at plot 6/3/18\n",
      "Rendering kernel 0/12 at plot 1/4/19\n",
      "Rendering kernel 4/12 at plot 2/4/20\n",
      "Rendering kernel 8/12 at plot 3/4/21\n",
      "Rendering kernel 12/12 at plot 4/4/22\n",
      "Rendering kernel 16/12 at plot 5/4/23\n",
      "Rendering kernel 20/12 at plot 6/4/24\n",
      "Rendering kernel 0/16 at plot 1/5/25\n",
      "Rendering kernel 4/16 at plot 2/5/26\n",
      "Rendering kernel 8/16 at plot 3/5/27\n",
      "Rendering kernel 12/16 at plot 4/5/28\n",
      "Rendering kernel 16/16 at plot 5/5/29\n",
      "Rendering kernel 20/16 at plot 6/5/30\n",
      "Rendering kernel 0/20 at plot 1/6/31\n",
      "Rendering kernel 4/20 at plot 2/6/32\n",
      "Rendering kernel 8/20 at plot 3/6/33\n",
      "Rendering kernel 12/20 at plot 4/6/34\n",
      "Rendering kernel 16/20 at plot 5/6/35\n",
      "Rendering kernel 20/20 at plot 6/6/36\n"
     ]
    },
    {
     "data": {
      "image/png": "[encoded data removed]",
      "text/plain": [
       "<matplotlib.figure.Figure at 0x119bcf048>"
      ]
     },
     "metadata": {},
     "output_type": "display_data"
    }
   ],
   "source": [
    "fig = plt.figure() #int(x_max+1) * int(y_max+1))\n",
    "x_count, y_count = 1, 1\n",
    "\n",
    "for y in range (0, len_y - stride_size, stride[0]):\n",
    "    x_count = 1\n",
    "    for x in range(0, len_x - stride_size, stride[0]):\n",
    "        print ('Rendering kernel {}/{} at plot {}/{}/{}'.format(x, y, x_count, y_count, (y_count-1)*x_max+x_count))\n",
    "\n",
    "        x_end = x + stride[0]\n",
    "        y_end = y + stride[0]\n",
    "        kernel = image[x:x_end, y:y_end]\n",
    "        #orientation = s1(kernel)\n",
    "        a = fig.add_subplot(y_max, x_max, (y_count-1)*x_max+x_count)\n",
    "        plt.imshow(kernel, cmap=\"gray\")    \n",
    "        x_count += 1\n",
    "    y_count += 1\n",
    "plt.show()    "
   ]
  },
  {
   "cell_type": "code",
   "execution_count": null,
   "metadata": {
    "collapsed": true
   },
   "outputs": [],
   "source": []
  },
  {
   "cell_type": "code",
   "execution_count": null,
   "metadata": {
    "collapsed": true
   },
   "outputs": [],
   "source": []
  }
 ],
 "metadata": {
  "kernelspec": {
   "display_name": "Python 3",
   "language": "python",
   "name": "python3"
  },
  "language_info": {
   "codemirror_mode": {
    "name": "ipython",
    "version": 3
   },
   "file_extension": ".py",
   "mimetype": "text/x-python",
   "name": "python",
   "nbconvert_exporter": "python",
   "pygments_lexer": "ipython3",
   "version": "3.6.1"
  }
 },
 "nbformat": 4,
 "nbformat_minor": 2
}
