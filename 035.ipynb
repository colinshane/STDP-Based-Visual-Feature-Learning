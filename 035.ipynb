{
 "cells": [
  {
   "cell_type": "markdown",
   "metadata": {},
   "source": [
    "# 035\n",
    "\n",
    "Named after this: https://www.youtube.com/watch?v=hgZFuq2S15A\n",
    "        \n",
    "This code is designed to mimic the way the retina works in identifying parts of images, etc. \n",
    "\n",
    "The code is designed entirely to respond to MNIST sized data in order to get the respective neurons working,\n",
    "it is not designed to learn from this data (at least at this point). MNIST data seemed an appropriate level\n",
    "of complexity and size to get a small number of neurons working together."
   ]
  },
  {
   "cell_type": "markdown",
   "metadata": {},
   "source": [
    "### Setup the environment"
   ]
  },
  {
   "cell_type": "code",
   "execution_count": 1,
   "metadata": {
    "collapsed": true
   },
   "outputs": [],
   "source": [
    "import numpy as np\n",
    "from mnist import MNIST   \n",
    "import cv2\n",
    "import matplotlib.pyplot as plt\n",
    "%matplotlib inline"
   ]
  },
  {
   "cell_type": "markdown",
   "metadata": {},
   "source": [
    "### Create a sample image to work with\n",
    "\n",
    "TODO: Flesh this out into a data pipeline later"
   ]
  },
  {
   "cell_type": "code",
   "execution_count": 2,
   "metadata": {
    "collapsed": true
   },
   "outputs": [],
   "source": [
    "mndata = MNIST('./mnist')\n",
    "images, labels = mndata.load_training()\n",
    "\n",
    "def get_next_image(index=0):\n",
    "    return images[index]\n",
    "    "
   ]
  },
  {
   "cell_type": "markdown",
   "metadata": {},
   "source": [
    "* Get an image from the training set"
   ]
  },
  {
   "cell_type": "code",
   "execution_count": 23,
   "metadata": {},
   "outputs": [
    {
     "name": "stdout",
     "output_type": "stream",
     "text": [
      "\n",
      "............................\n",
      "............................\n",
      "............................\n",
      "............................\n",
      "............................\n",
      ".....................@@.....\n",
      ".............@@@@@@.@@......\n",
      "........@@@@@@@@@@..........\n",
      "........@@@@@@..@@..........\n",
      "...........@@@..............\n",
      "............@...............\n",
      "............@...............\n",
      ".............@..............\n",
      ".............@@.............\n",
      "..............@@@...........\n",
      "................@@..........\n",
      ".................@@.........\n",
      ".................@@@........\n",
      ".................@@@........\n",
      "..............@@@@@.........\n",
      "............@@@@@@..........\n",
      "..........@@@@@.............\n",
      "........@@@@@...............\n",
      "......@@@@@@................\n",
      ".....@@@@...................\n",
      "............................\n",
      "............................\n",
      "............................\n",
      "784\n"
     ]
    }
   ],
   "source": [
    "image = get_next_image(index=0)\n",
    "print(mndata.display(image))"
   ]
  },
  {
   "cell_type": "markdown",
   "metadata": {},
   "source": [
    "* Convert to a numpy array so we can process it easier / better"
   ]
  },
  {
   "cell_type": "code",
   "execution_count": 26,
   "metadata": {},
   "outputs": [
    {
     "name": "stdout",
     "output_type": "stream",
     "text": [
      "[[  0   0   0   0   0   0   0   0   0   0   0   0   0   0   0   0   0   0\n",
      "    0   0   0   0   0   0   0   0   0   0]\n",
      " [  0   0   0   0   0   0   0   0   0   0   0   0   0   0   0   0   0   0\n",
      "    0   0   0   0   0   0   0   0   0   0]\n",
      " [  0   0   0   0   0   0   0   0   0   0   0   0   0   0   0   0   0   0\n",
      "    0   0   0   0   0   0   0   0   0   0]\n",
      " [  0   0   0   0   0   0   0   0   0   0   0   0   0   0   0   0   0   0\n",
      "    0   0   0   0   0   0   0   0   0   0]\n",
      " [  0   0   0   0   0   0   0   0   0   0   0   0   0   0   0   0   0   0\n",
      "    0   0   0   0   0   0   0   0   0   0]\n",
      " [  0   0   0   0   0   0   0   0   0   0   0   0   3  18  18  18 126 136\n",
      "  175  26 166 255 247 127   0   0   0   0]\n",
      " [  0   0   0   0   0   0   0   0  30  36  94 154 170 253 253 253 253 253\n",
      "  225 172 253 242 195  64   0   0   0   0]\n",
      " [  0   0   0   0   0   0   0  49 238 253 253 253 253 253 253 253 253 251\n",
      "   93  82  82  56  39   0   0   0   0   0]\n",
      " [  0   0   0   0   0   0   0  18 219 253 253 253 253 253 198 182 247 241\n",
      "    0   0   0   0   0   0   0   0   0   0]\n",
      " [  0   0   0   0   0   0   0   0  80 156 107 253 253 205  11   0  43 154\n",
      "    0   0   0   0   0   0   0   0   0   0]\n",
      " [  0   0   0   0   0   0   0   0   0  14   1 154 253  90   0   0   0   0\n",
      "    0   0   0   0   0   0   0   0   0   0]\n",
      " [  0   0   0   0   0   0   0   0   0   0   0 139 253 190   2   0   0   0\n",
      "    0   0   0   0   0   0   0   0   0   0]\n",
      " [  0   0   0   0   0   0   0   0   0   0   0  11 190 253  70   0   0   0\n",
      "    0   0   0   0   0   0   0   0   0   0]\n",
      " [  0   0   0   0   0   0   0   0   0   0   0   0  35 241 225 160 108   1\n",
      "    0   0   0   0   0   0   0   0   0   0]\n",
      " [  0   0   0   0   0   0   0   0   0   0   0   0   0  81 240 253 253 119\n",
      "   25   0   0   0   0   0   0   0   0   0]\n",
      " [  0   0   0   0   0   0   0   0   0   0   0   0   0   0  45 186 253 253\n",
      "  150  27   0   0   0   0   0   0   0   0]\n",
      " [  0   0   0   0   0   0   0   0   0   0   0   0   0   0   0  16  93 252\n",
      "  253 187   0   0   0   0   0   0   0   0]\n",
      " [  0   0   0   0   0   0   0   0   0   0   0   0   0   0   0   0   0 249\n",
      "  253 249  64   0   0   0   0   0   0   0]\n",
      " [  0   0   0   0   0   0   0   0   0   0   0   0   0   0  46 130 183 253\n",
      "  253 207   2   0   0   0   0   0   0   0]\n",
      " [  0   0   0   0   0   0   0   0   0   0   0   0  39 148 229 253 253 253\n",
      "  250 182   0   0   0   0   0   0   0   0]\n",
      " [  0   0   0   0   0   0   0   0   0   0  24 114 221 253 253 253 253 201\n",
      "   78   0   0   0   0   0   0   0   0   0]\n",
      " [  0   0   0   0   0   0   0   0  23  66 213 253 253 253 253 198  81   2\n",
      "    0   0   0   0   0   0   0   0   0   0]\n",
      " [  0   0   0   0   0   0  18 171 219 253 253 253 253 195  80   9   0   0\n",
      "    0   0   0   0   0   0   0   0   0   0]\n",
      " [  0   0   0   0  55 172 226 253 253 253 253 244 133  11   0   0   0   0\n",
      "    0   0   0   0   0   0   0   0   0   0]\n",
      " [  0   0   0   0 136 253 253 253 212 135 132  16   0   0   0   0   0   0\n",
      "    0   0   0   0   0   0   0   0   0   0]\n",
      " [  0   0   0   0   0   0   0   0   0   0   0   0   0   0   0   0   0   0\n",
      "    0   0   0   0   0   0   0   0   0   0]\n",
      " [  0   0   0   0   0   0   0   0   0   0   0   0   0   0   0   0   0   0\n",
      "    0   0   0   0   0   0   0   0   0   0]\n",
      " [  0   0   0   0   0   0   0   0   0   0   0   0   0   0   0   0   0   0\n",
      "    0   0   0   0   0   0   0   0   0   0]]\n",
      "(28, 28)\n"
     ]
    }
   ],
   "source": [
    "image=np.asarray(image).reshape((28,28))\n",
    "print(image)\n",
    "print(image.shape)"
   ]
  },
  {
   "cell_type": "markdown",
   "metadata": {},
   "source": [
    "### Convolve the image..."
   ]
  },
  {
   "cell_type": "markdown",
   "metadata": {},
   "source": [
    "* Step across the image, creating a series of mini-matrices that can be used to feed into the retinal neurons"
   ]
  },
  {
   "cell_type": "code",
   "execution_count": 27,
   "metadata": {},
   "outputs": [
    {
     "name": "stdout",
     "output_type": "stream",
     "text": [
      "Convolution Dimensions: x=7 / y=7, starting at x=1, y=1\n"
     ]
    }
   ],
   "source": [
    "stride = (4,2)   # This will be 5 on-centre neurons, 2 surround (off-centre) neurons\n",
    "stride_size = stride[0] + stride[1]\n",
    "len_x, len_y = image.shape\n",
    "#x_max = int((len_x - stride_size)/stride[0])+1\n",
    "#y_max = int((len_y - stride_size)/stride[0])+1\n",
    "x_max = int(len_x/stride[0])\n",
    "y_max = int(len_y/stride[0])\n",
    "print ('Convolution Dimensions: x={} / y={}, starting at x={}, y={}'.format(x_max, y_max, x_count, y_count))"
   ]
  },
  {
   "cell_type": "markdown",
   "metadata": {},
   "source": [
    "* Normalise the image"
   ]
  },
  {
   "cell_type": "code",
   "execution_count": 31,
   "metadata": {},
   "outputs": [],
   "source": [
    "image_norm = image * 255.0/image.max()\n",
    "image = image_norm"
   ]
  },
  {
   "cell_type": "code",
   "execution_count": 32,
   "metadata": {
    "scrolled": false
   },
   "outputs": [
    {
     "name": "stdout",
     "output_type": "stream",
     "text": [
      "Rendering kernel 0/0 at plot 1/1/1\n",
      "Rendering kernel 4/0 at plot 2/1/2\n",
      "Rendering kernel 8/0 at plot 3/1/3\n",
      "Rendering kernel 12/0 at plot 4/1/4\n",
      "Rendering kernel 16/0 at plot 5/1/5\n",
      "Rendering kernel 20/0 at plot 6/1/6\n",
      "Rendering kernel 24/0 at plot 7/1/7\n",
      "Rendering kernel 0/4 at plot 1/2/8\n",
      "Rendering kernel 4/4 at plot 2/2/9\n",
      "Rendering kernel 8/4 at plot 3/2/10\n",
      "Rendering kernel 12/4 at plot 4/2/11\n",
      "Rendering kernel 16/4 at plot 5/2/12\n",
      "Rendering kernel 20/4 at plot 6/2/13\n",
      "Rendering kernel 24/4 at plot 7/2/14\n",
      "Rendering kernel 0/8 at plot 1/3/15\n",
      "Rendering kernel 4/8 at plot 2/3/16\n",
      "Rendering kernel 8/8 at plot 3/3/17\n",
      "Rendering kernel 12/8 at plot 4/3/18\n",
      "Rendering kernel 16/8 at plot 5/3/19\n",
      "Rendering kernel 20/8 at plot 6/3/20\n",
      "Rendering kernel 24/8 at plot 7/3/21\n",
      "Rendering kernel 0/12 at plot 1/4/22\n",
      "Rendering kernel 4/12 at plot 2/4/23\n",
      "Rendering kernel 8/12 at plot 3/4/24\n",
      "Rendering kernel 12/12 at plot 4/4/25\n",
      "Rendering kernel 16/12 at plot 5/4/26\n",
      "Rendering kernel 20/12 at plot 6/4/27\n",
      "Rendering kernel 24/12 at plot 7/4/28\n",
      "Rendering kernel 0/16 at plot 1/5/29\n",
      "Rendering kernel 4/16 at plot 2/5/30\n",
      "Rendering kernel 8/16 at plot 3/5/31\n",
      "Rendering kernel 12/16 at plot 4/5/32\n",
      "Rendering kernel 16/16 at plot 5/5/33\n",
      "Rendering kernel 20/16 at plot 6/5/34\n",
      "Rendering kernel 24/16 at plot 7/5/35\n",
      "Rendering kernel 0/20 at plot 1/6/36\n",
      "Rendering kernel 4/20 at plot 2/6/37\n",
      "Rendering kernel 8/20 at plot 3/6/38\n",
      "Rendering kernel 12/20 at plot 4/6/39\n",
      "Rendering kernel 16/20 at plot 5/6/40\n",
      "Rendering kernel 20/20 at plot 6/6/41\n",
      "Rendering kernel 24/20 at plot 7/6/42\n",
      "Rendering kernel 0/24 at plot 1/7/43\n",
      "Rendering kernel 4/24 at plot 2/7/44\n",
      "Rendering kernel 8/24 at plot 3/7/45\n",
      "Rendering kernel 12/24 at plot 4/7/46\n",
      "Rendering kernel 16/24 at plot 5/7/47\n",
      "Rendering kernel 20/24 at plot 6/7/48\n",
      "Rendering kernel 24/24 at plot 7/7/49\n"
     ]
    },
    {
     "data": {
      "image/png": "[encoded data removed]",
      "text/plain": [
       "<matplotlib.figure.Figure at 0x112ed56d8>"
      ]
     },
     "metadata": {},
     "output_type": "display_data"
    }
   ],
   "source": [
    "fig = plt.figure() #int(x_max+1) * int(y_max+1))\n",
    "x_count, y_count = 1, 1\n",
    "\n",
    "#for y in range (0, len_y - stride_size, stride[0]):\n",
    "for y in range (0, len_y, stride[0]):\n",
    "    x_count = 1\n",
    "    #for x in range(0, len_x - stride_size, stride[0]):\n",
    "    for x in range(0, len_x, stride[0]):\n",
    "        print ('Rendering kernel {}/{} at plot {}/{}/{}'.format(x, y, x_count, y_count, (y_count-1)*x_max+x_count))\n",
    "\n",
    "        x_end = x + stride[0]\n",
    "        y_end = y + stride[0]\n",
    "        kernel = image[y:y_end, x:x_end]\n",
    "        #orientation = s1(kernel)\n",
    "        a = fig.add_subplot(y_max, x_max, (y_count-1)*x_max+x_count)\n",
    "        a.axis('off')\n",
    "        plt.imshow(kernel, cmap=\"gray\")    \n",
    "        x_count += 1\n",
    "    y_count += 1\n",
    "plt.show()    "
   ]
  },
  {
   "cell_type": "markdown",
   "metadata": {},
   "source": [
    "### Create a basic neuron\n",
    "\n",
    "Use LIF neuron for now, this can be made more complex over time.\n",
    "\n",
    "Also this code can be moved out to a seperate function too!!\n",
    "\n",
    "Based on http://neurdon.wpengine.com/2011/01/19/neural-modeling-with-python-part-1/"
   ]
  },
  {
   "cell_type": "code",
   "execution_count": 14,
   "metadata": {},
   "outputs": [],
   "source": [
    "# Simulation config (may not all be needed!!)\n",
    "T        = 50          # total time to sumulate (msec)\n",
    "dt       = 0.125       # simulation time step\n",
    "time     = np.arange(0, T+dt, dt) # Time array\n",
    "t_rest   = 0           # initial refractory time"
   ]
  },
  {
   "cell_type": "code",
   "execution_count": 15,
   "metadata": {},
   "outputs": [],
   "source": [
    "#LIF Properties \n",
    "Vm       = np.zeros(len(time)) # potential (V) trace over time\n",
    "Rm       = 1                # Resistance (kOhm)\n",
    "Cm       = 10               # Capacitance (uF)\n",
    "tau_m    = Rm * Cm          # Time constant\n",
    "tau_ref  = 4                # refractory period (ms)\n",
    "Vth      = 1                # spike threshold\n",
    "V_spike  = 0.5              # spike delta (V)"
   ]
  },
  {
   "cell_type": "markdown",
   "metadata": {},
   "source": [
    "* Replace the input current with the pixel value (brightness)"
   ]
  },
  {
   "cell_type": "code",
   "execution_count": 16,
   "metadata": {
    "collapsed": true
   },
   "outputs": [],
   "source": [
    "I        = 1.5              # input current (A)  "
   ]
  },
  {
   "cell_type": "markdown",
   "metadata": {},
   "source": [
    "* Function to create spikes for this neuron\n",
    "\n",
    "Need to pass in the current / pixel brightness here!!"
   ]
  },
  {
   "cell_type": "code",
   "execution_count": 41,
   "metadata": {},
   "outputs": [],
   "source": [
    "class Neuron():\n",
    "    def __init__(self):\n",
    "        # Simulation config (may not all be needed!!)\n",
    "        self.T        = 50          # total time to sumulate (msec)\n",
    "        self.dt       = 0.125       # simulation time step\n",
    "        self.time     = np.arange(0, T+dt, dt) # Time array\n",
    "        self.t_rest   = 0           # initial refractory time\n",
    "        \n",
    "        #LIF Properties \n",
    "        self.Vm       = np.zeros(len(time)) # potential (V) trace over time\n",
    "        self.Rm       = 1                # Resistance (kOhm)\n",
    "        self.Cm       = 10               # Capacitance (uF)\n",
    "        self.tau_m    = Rm * Cm          # Time constant\n",
    "        self.tau_ref  = 4                # refractory period (ms)\n",
    "        self.Vth      = 1                # spike threshold\n",
    "        self.V_spike  = 0.5              # spike delta (V)\n",
    "    \n",
    "    def spike_generator(self, I):\n",
    "        for i,t in enumerate(self.time):\n",
    "            if t > self.t_rest:\n",
    "                self.Vm[i] = self.Vm[i-1] + (-self.Vm[i-1] + I*self.Rm) / self.tau_m * self.dt\n",
    "                if self.Vm[i] >= self.Vth:\n",
    "                    self.Vm[i] += self.V_spike\n",
    "                    self.t_rest = t + self.tau_ref\n",
    "        return self.time, self.Vm"
   ]
  },
  {
   "cell_type": "code",
   "execution_count": null,
   "metadata": {
    "collapsed": true
   },
   "outputs": [],
   "source": []
  },
  {
   "cell_type": "code",
   "execution_count": null,
   "metadata": {
    "collapsed": true
   },
   "outputs": [],
   "source": []
  },
  {
   "cell_type": "markdown",
   "metadata": {},
   "source": [
    "### Create a retinal unit\n",
    "\n",
    "Each retinal unit contains\n",
    "\n",
    "* On-centre cells\n",
    "* Off-centre / surround cells\n",
    "* Horizontal cells\n",
    "* Ganglion cells\n",
    "\n",
    "Now let's create a function for each type of cell...\n"
   ]
  },
  {
   "cell_type": "markdown",
   "metadata": {},
   "source": [
    "* On-center cell"
   ]
  },
  {
   "cell_type": "code",
   "execution_count": 57,
   "metadata": {},
   "outputs": [
    {
     "name": "stdout",
     "output_type": "stream",
     "text": [
      "[ 0.          0.0125      0.02484375  0.0370332   0.04907029  0.06095691\n",
      "  0.07269495  0.08428626  0.09573268  0.10703602  0.11819807  0.1292206\n",
      "  0.14010534  0.15085402  0.16146835  0.17194999  0.18230062  0.19252186\n",
      "  0.20261534  0.21258265  0.22242536  0.23214505  0.24174323  0.25122144\n",
      "  0.26058117  0.26982391  0.27895111  0.28796422  0.29686467  0.30565386\n",
      "  0.31433319  0.32290402  0.33136772  0.33972563  0.34797906  0.35612932\n",
      "  0.3641777   0.37212548  0.37997391  0.38772424  0.39537768  0.40293546\n",
      "  0.41039877  0.41776879  0.42504668  0.43223359  0.43933067  0.44633904\n",
      "  0.4532598   0.46009405  0.46684288  0.47350734  0.4800885   0.48658739\n",
      "  0.49300505  0.49934249  0.50560071  0.5117807   0.51788344  0.5239099\n",
      "  0.52986102  0.53573776  0.54154104  0.54727178  0.55293088  0.55851924\n",
      "  0.56403775  0.56948728  0.57486869  0.58018283  0.58543054  0.59061266\n",
      "  0.59573     0.60078338  0.60577359  0.61070142  0.61556765  0.62037305\n",
      "  0.62511839  0.62980441  0.63443186  0.63900146  0.64351394  0.64797002\n",
      "  0.65237039  0.65671576  0.66100681  0.66524423  0.66942868  0.67356082\n",
      "  0.67764131  0.68167079  0.68564991  0.68957928  0.69345954  0.6972913\n",
      "  0.70107516  0.70481172  0.70850157  0.7121453   0.71574348  0.71929669\n",
      "  0.72280548  0.72627041  0.72969203  0.73307088  0.7364075   0.7397024\n",
      "  0.74295612  0.74616917  0.74934206  0.75247528  0.75556934  0.75862472\n",
      "  0.76164191  0.76462139  0.76756362  0.77046908  0.77333821  0.77617149\n",
      "  0.77896934  0.78173223  0.78446057  0.78715482  0.78981538  0.79244269\n",
      "  0.79503715  0.79759919  0.8001292   0.80262759  0.80509474  0.80753106\n",
      "  0.80993692  0.81231271  0.8146588   0.81697556  0.81926337  0.82152258\n",
      "  0.82375354  0.82595662  0.82813217  0.83028051  0.83240201  0.83449698\n",
      "  0.83656577  0.8386087   0.84062609  0.84261826  0.84458554  0.84652822\n",
      "  0.84844661  0.85034103  0.85221177  0.85405912  0.85588338  0.85768484\n",
      "  0.85946378  0.86122048  0.86295523  0.86466829  0.86635993  0.86803043\n",
      "  0.86968005  0.87130905  0.87291769  0.87450622  0.87607489  0.87762395\n",
      "  0.87915365  0.88066423  0.88215593  0.88362898  0.88508362  0.88652007\n",
      "  0.88793857  0.88933934  0.8907226   0.89208857  0.89343746  0.89476949\n",
      "  0.89608487  0.89738381  0.89866651  0.89993318  0.90118402  0.90241922\n",
      "  0.90363898  0.90484349  0.90603295  0.90720753  0.90836744  0.90951285\n",
      "  0.91064394  0.91176089  0.91286388  0.91395308  0.91502866  0.91609081\n",
      "  0.91713967  0.91817543  0.91919823  0.92020825  0.92120565  0.92219058\n",
      "  0.9231632   0.92412366  0.92507211  0.92600871  0.9269336   0.92784693\n",
      "  0.92874885  0.92963949  0.93051899  0.9313875   0.93224516  0.9330921\n",
      "  0.93392844  0.93475434  0.93556991  0.93637529  0.9371706   0.93795596\n",
      "  0.93873151  0.93949737  0.94025365  0.94100048  0.94173798  0.94246625\n",
      "  0.94318542  0.9438956   0.94459691  0.94528945  0.94597333  0.94664866\n",
      "  0.94731556  0.94797411  0.94862443  0.94926663  0.9499008   0.95052704\n",
      "  0.95114545  0.95175613  0.95235918  0.95295469  0.95354276  0.95412347\n",
      "  0.95469693  0.95526322  0.95582243  0.95637465  0.95691996  0.95745846\n",
      "  0.95799023  0.95851535  0.95903391  0.95954599  0.96005166  0.96055102\n",
      "  0.96104413  0.96153108  0.96201194  0.96248679  0.96295571  0.96341876\n",
      "  0.96387602  0.96432757  0.96477348  0.96521381  0.96564864  0.96607803\n",
      "  0.96650206  0.96692078  0.96733427  0.96774259  0.96814581  0.96854399\n",
      "  0.96893719  0.96932547  0.9697089   0.97008754  0.97046145  0.97083068\n",
      "  0.9711953   0.97155536  0.97191091  0.97226203  0.97260875  0.97295114\n",
      "  0.97328925  0.97362314  0.97395285  0.97427844  0.97459996  0.97491746\n",
      "  0.97523099  0.9755406   0.97584634  0.97614826  0.97644641  0.97674083\n",
      "  0.97703157  0.97731868  0.97760219  0.97788217  0.97815864  0.97843166\n",
      "  0.97870126  0.97896749  0.9792304   0.97949002  0.9797464   0.97999957\n",
      "  0.98024957  0.98049645  0.98074025  0.98098099  0.98121873  0.9814535\n",
      "  0.98168533  0.98191426  0.98214033  0.98236358  0.98258403  0.98280173\n",
      "  0.98301671  0.983229    0.98343864  0.98364566  0.98385009  0.98405196\n",
      "  0.98425131  0.98444817  0.98464257  0.98483453  0.9850241   0.9852113\n",
      "  0.98539616  0.98557871  0.98575897  0.98593699  0.98611278  0.98628637\n",
      "  0.98645779  0.98662706  0.98679423  0.9869593   0.98712231  0.98728328\n",
      "  0.98744224  0.98759921  0.98775422  0.98790729  0.98805845  0.98820772\n",
      "  0.98835512  0.98850068  0.98864442  0.98878637  0.98892654  0.98906496\n",
      "  0.98920165  0.98933663  0.98946992  0.98960154  0.98973152  0.98985988\n",
      "  0.98998663  0.9901118   0.9902354   0.99035746  0.99047799  0.99059702\n",
      "  0.99071455  0.99083062  0.99094524  0.99105842  0.99117019  0.99128057\n",
      "  0.99138956  0.99149719  0.99160347  0.99170843  0.99181208  0.99191442\n",
      "  0.99201549  0.9921153   0.99221386  0.99231119  0.9924073   0.9925022\n",
      "  0.99259593  0.99268848  0.99277987  0.99287012  0.99295925  0.99304726\n",
      "  0.99313417  0.99321999  0.99330474  0.99338843  0.99347107]\n"
     ]
    }
   ],
   "source": [
    "#def on_center_cell(value):\n",
    "\n",
    "on_center_cell = Neuron()\n",
    "time, Vm = on_center_cell.spike_generator(1)\n",
    "\n",
    "print(Vm)\n"
   ]
  },
  {
   "cell_type": "code",
   "execution_count": 56,
   "metadata": {},
   "outputs": [
    {
     "data": {
      "image/png": "[encoded data removed]",
      "text/plain": [
       "<matplotlib.figure.Figure at 0x114258400>"
      ]
     },
     "metadata": {},
     "output_type": "display_data"
    }
   ],
   "source": [
    "plt.plot(time,Vm)\n",
    "plt.title('Leaky Integrate and Fire Example')\n",
    "plt.ylabel('Membrane potential (V)')\n",
    "plt.xlabel('Time (msec)')\n",
    "plt.ylim([0,2])\n",
    "plt.show()"
   ]
  },
  {
   "cell_type": "code",
   "execution_count": null,
   "metadata": {
    "collapsed": true
   },
   "outputs": [],
   "source": []
  }
 ],
 "metadata": {
  "kernelspec": {
   "display_name": "Python 3",
   "language": "python",
   "name": "python3"
  },
  "language_info": {
   "codemirror_mode": {
    "name": "ipython",
    "version": 3
   },
   "file_extension": ".py",
   "mimetype": "text/x-python",
   "name": "python",
   "nbconvert_exporter": "python",
   "pygments_lexer": "ipython3",
   "version": "3.6.1"
  }
 },
 "nbformat": 4,
 "nbformat_minor": 2
}
