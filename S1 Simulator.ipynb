{
 "cells": [
  {
   "cell_type": "markdown",
   "metadata": {},
   "source": [
    "# STDP-Based Visual Feature Learning\n",
    "\n",
    "This code is based on this research paper:\n",
    "http://journals.plos.org/ploscompbiol/article/file?id=10.1371/journal.pcbi.0030031&type=printable\n"
   ]
  },
  {
   "cell_type": "code",
   "execution_count": 9,
   "metadata": {
    "collapsed": true
   },
   "outputs": [],
   "source": [
    "import numpy as np\n",
    "import cv2\n",
    "import matplotlib.pyplot as plt\n",
    "%matplotlib inline"
   ]
  },
  {
   "cell_type": "markdown",
   "metadata": {},
   "source": [
    "### Simulate the S1 cells in the retina\n",
    "\n",
    "These cells are purposefully designed to trigger if there is a vertical, horizontal or diagonal edge.\n",
    "\n",
    "Assume that:\n",
    "* We are given a 3x3 or 5x5 sample (size doesn't matter, but let's assume it's small to only contain a single 'edge')\n",
    "* For now we will iterate over the image rather than do any clever manipulation using complex vectors or linear algebra (which can probably be done!)\n",
    "* We will go with vertical, horizontal and diagonal (-45'c and +45'c) edges\n",
    "* Assume all images are grey-scale which pixels in the range 0-255"
   ]
  },
  {
   "cell_type": "code",
   "execution_count": 2,
   "metadata": {
    "collapsed": true
   },
   "outputs": [],
   "source": [
    "def s1(image_subsample):\n",
    "    gradients = np.gradient(image_subsample)\n",
    "    gx = gradients[0]\n",
    "    gy = gradients[1]\n",
    "    angles = (np.arctan2(gy,gx) * 180 / np.pi)\n",
    "    min_g = np.min(angles)\n",
    "    max_g = np.max(angles)\n",
    "    angle = [max_g if abs(max_g > abs(min_g)) else min_g]\n",
    "    # Create output vector\n",
    "    output = np.zeros(8)\n",
    "    quadrant = int((angle - 22.5) / 45) + 4\n",
    "    output[quadrant] = 1\n",
    "    print ('Angle={}, quadrant={}'.format(angle, output))\n",
    "    return output"
   ]
  },
  {
   "cell_type": "markdown",
   "metadata": {},
   "source": [
    "* Load the image"
   ]
  },
  {
   "cell_type": "code",
   "execution_count": null,
   "metadata": {
    "collapsed": true
   },
   "outputs": [],
   "source": []
  }
 ],
 "metadata": {
  "kernelspec": {
   "display_name": "Python 3",
   "language": "python",
   "name": "python3"
  },
  "language_info": {
   "codemirror_mode": {
    "name": "ipython",
    "version": 3
   },
   "file_extension": ".py",
   "mimetype": "text/x-python",
   "name": "python",
   "nbconvert_exporter": "python",
   "pygments_lexer": "ipython3",
   "version": "3.6.1"
  }
 },
 "nbformat": 4,
 "nbformat_minor": 2
}
